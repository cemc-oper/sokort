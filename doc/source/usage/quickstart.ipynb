{
 "cells": [
  {
   "cell_type": "markdown",
   "metadata": {
    "collapsed": true,
    "pycharm": {
     "name": "#%% md\n"
    }
   },
   "source": [
    "# 开始使用"
   ]
  },
  {
   "cell_type": "markdown",
   "source": [
    "## 配置\n",
    "\n",
    "本项目使用配置文件设置业务系统绘图脚本库的位置，参看 `config` 文件夹。\n",
    "配置文件默认放在 `$HOME/.config/nwpc-oper/sokort` 目录中。\n",
    "\n",
    "可以使用 `NWPC_GRAPHICS_CONFIG` 环境变量设置主配置文件 `config.yaml` 的路径，\n",
    "或者手动调用 `load_config()` 函数设置。\n",
    "\n",
    "如果在 CMA-PI 中安装，可以直接使用 `tool/cma-pi` 下提供的预设配置文件和环境加载脚本。"
   ],
   "metadata": {
    "collapsed": false,
    "pycharm": {
     "name": "#%% md\n"
    }
   }
  },
  {
   "cell_type": "markdown",
   "source": [
    "## 使用\n",
    "\n",
    "### Jupyter Notebook\n",
    "\n",
    "在 Anaconda 环境中启动 Jupyter Notebook。\n",
    "\n",
    "执行下面的代码绘制并显示 GRAPES GFS 全球预报系统 2021 年 7 月 11 日 00 时次 24 小时的整层可降水量。"
   ],
   "metadata": {
    "collapsed": false,
    "pycharm": {
     "name": "#%% md\n"
    }
   }
  },
  {
   "cell_type": "code",
   "execution_count": null,
   "outputs": [],
   "source": [
    "from sokort import show_plot\n",
    "show_plot(\"grapes_gfs_gmf\", \"pwat_sfc_an_aea\", \"2021071100\", \"24h\")"
   ],
   "metadata": {
    "collapsed": false,
    "pycharm": {
     "name": "#%%\n"
    }
   }
  },
  {
   "cell_type": "markdown",
   "source": [
    "## 命令行程序\n",
    "\n",
    "本项目提供命令行接口。\n",
    "下面的代码使用改程序绘制上面的示例，并调用系统默认的图片浏览器显示图片。\n",
    "\n",
    "```shell\n",
    "python -m sokort show \\\n",
    "  --system=grapes_gfs_gmf \\\n",
    "  --plot-type=pwat_sfc_an_aea \\\n",
    "  --start-time=2021071100 \\\n",
    "  --forecast-time=24h\n",
    "```\n"
   ],
   "metadata": {
    "collapsed": false,
    "pycharm": {
     "name": "#%% md\n"
    }
   }
  }
 ],
 "metadata": {
  "kernelspec": {
   "display_name": "Python 3",
   "language": "python",
   "name": "python3"
  },
  "language_info": {
   "codemirror_mode": {
    "name": "ipython",
    "version": 2
   },
   "file_extension": ".py",
   "mimetype": "text/x-python",
   "name": "python",
   "nbconvert_exporter": "python",
   "pygments_lexer": "ipython2",
   "version": "2.7.6"
  }
 },
 "nbformat": 4,
 "nbformat_minor": 0
}
