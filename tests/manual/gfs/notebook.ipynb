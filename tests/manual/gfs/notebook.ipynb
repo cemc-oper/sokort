{
 "cells": [
  {
   "cell_type": "markdown",
   "metadata": {
    "collapsed": true,
    "pycharm": {
     "name": "#%% md\n"
    }
   },
   "source": [
    "# GRAPES GFS 图片产品\n",
    "\n",
    "## 整层可降水量"
   ]
  },
  {
   "cell_type": "code",
   "execution_count": null,
   "outputs": [],
   "source": [
    "import datetime\n",
    "from nwpc_graphics.systems.grapes_gfs_gmf import show_plot\n",
    "\n",
    "yesterday = datetime.datetime.now() - datetime.timedelta(days=1)\n",
    "start_time = yesterday.strftime(\"%Y%m%d\")\n",
    "start_hour = \"00\"\n",
    "forecast_time = \"24h\"\n",
    "plot_type = \"pwat_sfc_an_aea\"\n",
    "\n",
    "show_plot(plot_type, start_time, start_hour, forecast_time)"
   ],
   "metadata": {
    "collapsed": false,
    "pycharm": {
     "name": "#%%\n"
    }
   }
  }
 ],
 "metadata": {
  "kernelspec": {
   "display_name": "Python 3",
   "language": "python",
   "name": "python3"
  },
  "language_info": {
   "codemirror_mode": {
    "name": "ipython",
    "version": 3
   },
   "file_extension": ".py",
   "mimetype": "text/x-python",
   "name": "python",
   "nbconvert_exporter": "python",
   "pygments_lexer": "ipython3",
   "version": "3.7.4"
  },
  "pycharm": {
   "stem_cell": {
    "cell_type": "raw",
    "source": [],
    "metadata": {
     "collapsed": false
    }
   }
  }
 },
 "nbformat": 4,
 "nbformat_minor": 1
}