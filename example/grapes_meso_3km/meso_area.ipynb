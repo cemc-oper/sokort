{
 "cells": [
  {
   "cell_type": "markdown",
   "metadata": {
    "collapsed": true,
    "pycharm": {
     "name": "#%% md\n"
    }
   },
   "source": [
    "# GRAPES MESO 3KM 区域图片产品\n",
    "\n",
    "加载 Python 库"
   ]
  },
  {
   "cell_type": "code",
   "execution_count": null,
   "outputs": [],
   "source": [
    "import pandas as pd\n",
    "\n",
    "from sokort import show_plot"
   ],
   "metadata": {
    "collapsed": false,
    "pycharm": {
     "name": "#%%\n"
    }
   }
  },
  {
   "cell_type": "markdown",
   "source": [
    "设置参数，包括：\n",
    "\n",
    "- 系统名称 `system_name`\n",
    "- 起报时次 `start_time`\n",
    "- 预报时效 `forecast_time`"
   ],
   "metadata": {
    "collapsed": false
   }
  },
  {
   "cell_type": "code",
   "execution_count": null,
   "outputs": [],
   "source": [
    "system_name = \"grapes_meso_3km\"\n",
    "yesterday = pd.Timestamp.now() - pd.Timedelta(days=1)\n",
    "start_hour = \"00\"\n",
    "start_time = yesterday.strftime(\"%Y%m%d\") + start_hour\n",
    "forecast_time = \"24h\"\n",
    "\n",
    "print(\"system name:\", system_name)\n",
    "print(\"start time:\", start_time)\n",
    "print(\"forecast time:\", forecast_time)"
   ],
   "metadata": {
    "collapsed": false,
    "pycharm": {
     "name": "#%%\n"
    }
   }
  },
  {
   "cell_type": "markdown",
   "source": [
    "## 1h 降水 + 10m 风场"
   ],
   "metadata": {
    "collapsed": false
   }
  },
  {
   "cell_type": "code",
   "execution_count": null,
   "outputs": [],
   "source": [
    "plot_type = \"area_prep_1h_10mw\"\n",
    "show_plot(system_name, plot_type, start_time, forecast_time)"
   ],
   "metadata": {
    "collapsed": false,
    "pycharm": {
     "name": "#%%\n"
    }
   }
  },
  {
   "cell_type": "markdown",
   "source": [
    "## 3h 降水 + 10m 风场"
   ],
   "metadata": {
    "collapsed": false
   }
  },
  {
   "cell_type": "code",
   "execution_count": null,
   "outputs": [],
   "source": [
    "plot_type = \"area_prep_3h_10mw\"\n",
    "show_plot(system_name, plot_type, start_time, forecast_time)"
   ],
   "metadata": {
    "collapsed": false,
    "pycharm": {
     "name": "#%%\n"
    }
   }
  },
  {
   "cell_type": "markdown",
   "source": [
    "## 6h 降水 + 10m 风场"
   ],
   "metadata": {
    "collapsed": false,
    "pycharm": {
     "name": "#%% md\n"
    }
   }
  },
  {
   "cell_type": "code",
   "execution_count": null,
   "outputs": [],
   "source": [
    "plot_type = \"area_prep_6h_10mw\"\n",
    "show_plot(system_name, plot_type, start_time, forecast_time)"
   ],
   "metadata": {
    "collapsed": false,
    "pycharm": {
     "name": "#%%\n"
    }
   }
  },
  {
   "cell_type": "markdown",
   "source": [
    "## 12h 降水 + 10m 风场"
   ],
   "metadata": {
    "collapsed": false
   }
  },
  {
   "cell_type": "code",
   "execution_count": null,
   "outputs": [],
   "source": [
    "plot_type = \"area_prep_12h_10mw\"\n",
    "show_plot(system_name, plot_type, start_time, forecast_time)"
   ],
   "metadata": {
    "collapsed": false,
    "pycharm": {
     "name": "#%%\n"
    }
   }
  }
 ],
 "metadata": {
  "kernelspec": {
   "display_name": "Python 3",
   "language": "python",
   "name": "python3"
  },
  "language_info": {
   "codemirror_mode": {
    "name": "ipython",
    "version": 2
   },
   "file_extension": ".py",
   "mimetype": "text/x-python",
   "name": "python",
   "nbconvert_exporter": "python",
   "pygments_lexer": "ipython2",
   "version": "2.7.6"
  }
 },
 "nbformat": 4,
 "nbformat_minor": 0
}
